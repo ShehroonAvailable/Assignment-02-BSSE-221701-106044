{
  "nbformat": 4,
  "nbformat_minor": 0,
  "metadata": {
    "colab": {
      "provenance": [],
      "authorship_tag": "ABX9TyN4e4t2x5fzw8Oo90+R7bxx",
      "include_colab_link": true
    },
    "kernelspec": {
      "name": "python3",
      "display_name": "Python 3"
    },
    "language_info": {
      "name": "python"
    }
  },
  "cells": [
    {
      "cell_type": "markdown",
      "metadata": {
        "id": "view-in-github",
        "colab_type": "text"
      },
      "source": [
        "<a href=\"https://colab.research.google.com/github/ShehroonAvailable/Assignment-02-BSSE-221701-106044/blob/main/assignment2.ipynb\" target=\"_parent\"><img src=\"https://colab.research.google.com/assets/colab-badge.svg\" alt=\"Open In Colab\"/></a>"
      ]
    },
    {
      "cell_type": "code",
      "source": [
        "number = -3\n",
        "\n",
        "if number >= 0:\n",
        "    print(\"The number is positive.\")\n",
        "else:\n",
        "    print(\"The number is negative.\")\n",
        "\n",
        "for i in range(1, 6):\n",
        "    print(\"Number:\", i)"
      ],
      "metadata": {
        "id": "Pwq0f5LLgL4n"
      },
      "execution_count": null,
      "outputs": []
    }
  ]
}